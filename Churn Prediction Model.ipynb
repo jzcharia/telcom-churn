{
 "cells": [
  {
   "cell_type": "markdown",
   "metadata": {
    "_cell_guid": "79c7e3d0-c299-4dcb-8224-4455121ee9b0",
    "_uuid": "d629ff2d2480ee46fbb7e2d37f6b5fab8052498a",
    "collapsed": true
   },
   "source": [
    "# Churn Prediction Model"
   ]
  },
  {
   "cell_type": "markdown",
   "metadata": {},
   "source": [
    "### Load Relevant Packages and Data"
   ]
  },
  {
   "cell_type": "code",
   "execution_count": 1,
   "metadata": {},
   "outputs": [],
   "source": [
    "#add packages\n",
    "%matplotlib inline \n",
    "import numpy as np\n",
    "import matplotlib.pyplot as plt\n",
    "import pandas as pd\n",
    "import seaborn as sn\n",
    "\n",
    "#specific from Scikit-Learn\n",
    "from sklearn import preprocessing\n",
    "from sklearn.model_selection  import train_test_split, cross_val_score, KFold\n",
    "from sklearn.model_selection import GridSearchCV\n",
    "from sklearn.metrics import accuracy_score, precision_score, recall_score, f1_score\n",
    "from sklearn.metrics import roc_curve, auc, confusion_matrix, classification_report\n",
    "from sklearn import preprocessing\n",
    "from sklearn import tree\n",
    "\n",
    "#specific from IPython\n",
    "from IPython.display import Image"
   ]
  },
  {
   "cell_type": "code",
   "execution_count": 2,
   "metadata": {},
   "outputs": [
    {
     "data": {
      "text/html": [
       "<div>\n",
       "<style scoped>\n",
       "    .dataframe tbody tr th:only-of-type {\n",
       "        vertical-align: middle;\n",
       "    }\n",
       "\n",
       "    .dataframe tbody tr th {\n",
       "        vertical-align: top;\n",
       "    }\n",
       "\n",
       "    .dataframe thead th {\n",
       "        text-align: right;\n",
       "    }\n",
       "</style>\n",
       "<table border=\"1\" class=\"dataframe\">\n",
       "  <thead>\n",
       "    <tr style=\"text-align: right;\">\n",
       "      <th></th>\n",
       "      <th>customerID</th>\n",
       "      <th>gender</th>\n",
       "      <th>SeniorCitizen</th>\n",
       "      <th>Partner</th>\n",
       "      <th>Dependents</th>\n",
       "      <th>tenure</th>\n",
       "      <th>PhoneService</th>\n",
       "      <th>MultipleLines</th>\n",
       "      <th>InternetService</th>\n",
       "      <th>OnlineSecurity</th>\n",
       "      <th>...</th>\n",
       "      <th>DeviceProtection</th>\n",
       "      <th>TechSupport</th>\n",
       "      <th>StreamingTV</th>\n",
       "      <th>StreamingMovies</th>\n",
       "      <th>Contract</th>\n",
       "      <th>PaperlessBilling</th>\n",
       "      <th>PaymentMethod</th>\n",
       "      <th>MonthlyCharges</th>\n",
       "      <th>TotalCharges</th>\n",
       "      <th>Churn</th>\n",
       "    </tr>\n",
       "  </thead>\n",
       "  <tbody>\n",
       "    <tr>\n",
       "      <td>0</td>\n",
       "      <td>7590-VHVEG</td>\n",
       "      <td>Female</td>\n",
       "      <td>0</td>\n",
       "      <td>Yes</td>\n",
       "      <td>No</td>\n",
       "      <td>1</td>\n",
       "      <td>No</td>\n",
       "      <td>No phone service</td>\n",
       "      <td>DSL</td>\n",
       "      <td>No</td>\n",
       "      <td>...</td>\n",
       "      <td>No</td>\n",
       "      <td>No</td>\n",
       "      <td>No</td>\n",
       "      <td>No</td>\n",
       "      <td>Month-to-month</td>\n",
       "      <td>Yes</td>\n",
       "      <td>Electronic check</td>\n",
       "      <td>29.85</td>\n",
       "      <td>29.85</td>\n",
       "      <td>No</td>\n",
       "    </tr>\n",
       "    <tr>\n",
       "      <td>1</td>\n",
       "      <td>5575-GNVDE</td>\n",
       "      <td>Male</td>\n",
       "      <td>0</td>\n",
       "      <td>No</td>\n",
       "      <td>No</td>\n",
       "      <td>34</td>\n",
       "      <td>Yes</td>\n",
       "      <td>No</td>\n",
       "      <td>DSL</td>\n",
       "      <td>Yes</td>\n",
       "      <td>...</td>\n",
       "      <td>Yes</td>\n",
       "      <td>No</td>\n",
       "      <td>No</td>\n",
       "      <td>No</td>\n",
       "      <td>One year</td>\n",
       "      <td>No</td>\n",
       "      <td>Mailed check</td>\n",
       "      <td>56.95</td>\n",
       "      <td>1889.50</td>\n",
       "      <td>No</td>\n",
       "    </tr>\n",
       "    <tr>\n",
       "      <td>2</td>\n",
       "      <td>3668-QPYBK</td>\n",
       "      <td>Male</td>\n",
       "      <td>0</td>\n",
       "      <td>No</td>\n",
       "      <td>No</td>\n",
       "      <td>2</td>\n",
       "      <td>Yes</td>\n",
       "      <td>No</td>\n",
       "      <td>DSL</td>\n",
       "      <td>Yes</td>\n",
       "      <td>...</td>\n",
       "      <td>No</td>\n",
       "      <td>No</td>\n",
       "      <td>No</td>\n",
       "      <td>No</td>\n",
       "      <td>Month-to-month</td>\n",
       "      <td>Yes</td>\n",
       "      <td>Mailed check</td>\n",
       "      <td>53.85</td>\n",
       "      <td>108.15</td>\n",
       "      <td>Yes</td>\n",
       "    </tr>\n",
       "    <tr>\n",
       "      <td>3</td>\n",
       "      <td>7795-CFOCW</td>\n",
       "      <td>Male</td>\n",
       "      <td>0</td>\n",
       "      <td>No</td>\n",
       "      <td>No</td>\n",
       "      <td>45</td>\n",
       "      <td>No</td>\n",
       "      <td>No phone service</td>\n",
       "      <td>DSL</td>\n",
       "      <td>Yes</td>\n",
       "      <td>...</td>\n",
       "      <td>Yes</td>\n",
       "      <td>Yes</td>\n",
       "      <td>No</td>\n",
       "      <td>No</td>\n",
       "      <td>One year</td>\n",
       "      <td>No</td>\n",
       "      <td>Bank transfer (automatic)</td>\n",
       "      <td>42.30</td>\n",
       "      <td>1840.75</td>\n",
       "      <td>No</td>\n",
       "    </tr>\n",
       "    <tr>\n",
       "      <td>4</td>\n",
       "      <td>9237-HQITU</td>\n",
       "      <td>Female</td>\n",
       "      <td>0</td>\n",
       "      <td>No</td>\n",
       "      <td>No</td>\n",
       "      <td>2</td>\n",
       "      <td>Yes</td>\n",
       "      <td>No</td>\n",
       "      <td>Fiber optic</td>\n",
       "      <td>No</td>\n",
       "      <td>...</td>\n",
       "      <td>No</td>\n",
       "      <td>No</td>\n",
       "      <td>No</td>\n",
       "      <td>No</td>\n",
       "      <td>Month-to-month</td>\n",
       "      <td>Yes</td>\n",
       "      <td>Electronic check</td>\n",
       "      <td>70.70</td>\n",
       "      <td>151.65</td>\n",
       "      <td>Yes</td>\n",
       "    </tr>\n",
       "  </tbody>\n",
       "</table>\n",
       "<p>5 rows × 21 columns</p>\n",
       "</div>"
      ],
      "text/plain": [
       "   customerID  gender  SeniorCitizen Partner Dependents  tenure PhoneService  \\\n",
       "0  7590-VHVEG  Female              0     Yes         No       1           No   \n",
       "1  5575-GNVDE    Male              0      No         No      34          Yes   \n",
       "2  3668-QPYBK    Male              0      No         No       2          Yes   \n",
       "3  7795-CFOCW    Male              0      No         No      45           No   \n",
       "4  9237-HQITU  Female              0      No         No       2          Yes   \n",
       "\n",
       "      MultipleLines InternetService OnlineSecurity  ... DeviceProtection  \\\n",
       "0  No phone service             DSL             No  ...               No   \n",
       "1                No             DSL            Yes  ...              Yes   \n",
       "2                No             DSL            Yes  ...               No   \n",
       "3  No phone service             DSL            Yes  ...              Yes   \n",
       "4                No     Fiber optic             No  ...               No   \n",
       "\n",
       "  TechSupport StreamingTV StreamingMovies        Contract PaperlessBilling  \\\n",
       "0          No          No              No  Month-to-month              Yes   \n",
       "1          No          No              No        One year               No   \n",
       "2          No          No              No  Month-to-month              Yes   \n",
       "3         Yes          No              No        One year               No   \n",
       "4          No          No              No  Month-to-month              Yes   \n",
       "\n",
       "               PaymentMethod MonthlyCharges  TotalCharges Churn  \n",
       "0           Electronic check          29.85         29.85    No  \n",
       "1               Mailed check          56.95       1889.50    No  \n",
       "2               Mailed check          53.85        108.15   Yes  \n",
       "3  Bank transfer (automatic)          42.30       1840.75    No  \n",
       "4           Electronic check          70.70        151.65   Yes  \n",
       "\n",
       "[5 rows x 21 columns]"
      ]
     },
     "execution_count": 2,
     "metadata": {},
     "output_type": "execute_result"
    }
   ],
   "source": [
    "#loading the data\n",
    "churn_data=pd.read_csv(\"C:/Users/Joel/Text Mining/Churn Prediction Model/Telco-Customer-Churn.csv\", sep=\",\")\n",
    "churn_data.head(5)"
   ]
  },
  {
   "cell_type": "code",
   "execution_count": 3,
   "metadata": {},
   "outputs": [
    {
     "data": {
      "text/html": [
       "<div>\n",
       "<style scoped>\n",
       "    .dataframe tbody tr th:only-of-type {\n",
       "        vertical-align: middle;\n",
       "    }\n",
       "\n",
       "    .dataframe tbody tr th {\n",
       "        vertical-align: top;\n",
       "    }\n",
       "\n",
       "    .dataframe thead th {\n",
       "        text-align: right;\n",
       "    }\n",
       "</style>\n",
       "<table border=\"1\" class=\"dataframe\">\n",
       "  <thead>\n",
       "    <tr style=\"text-align: right;\">\n",
       "      <th></th>\n",
       "      <th>Churn</th>\n",
       "      <th>customerID</th>\n",
       "      <th>gender</th>\n",
       "      <th>SeniorCitizen</th>\n",
       "      <th>Partner</th>\n",
       "      <th>Dependents</th>\n",
       "      <th>tenure</th>\n",
       "      <th>PhoneService</th>\n",
       "      <th>MultipleLines</th>\n",
       "      <th>InternetService</th>\n",
       "      <th>...</th>\n",
       "      <th>OnlineBackup</th>\n",
       "      <th>DeviceProtection</th>\n",
       "      <th>TechSupport</th>\n",
       "      <th>StreamingTV</th>\n",
       "      <th>StreamingMovies</th>\n",
       "      <th>Contract</th>\n",
       "      <th>PaperlessBilling</th>\n",
       "      <th>PaymentMethod</th>\n",
       "      <th>MonthlyCharges</th>\n",
       "      <th>TotalCharges</th>\n",
       "    </tr>\n",
       "  </thead>\n",
       "  <tbody>\n",
       "    <tr>\n",
       "      <td>0</td>\n",
       "      <td>No</td>\n",
       "      <td>7590-VHVEG</td>\n",
       "      <td>Female</td>\n",
       "      <td>0</td>\n",
       "      <td>Yes</td>\n",
       "      <td>No</td>\n",
       "      <td>1</td>\n",
       "      <td>No</td>\n",
       "      <td>No phone service</td>\n",
       "      <td>DSL</td>\n",
       "      <td>...</td>\n",
       "      <td>Yes</td>\n",
       "      <td>No</td>\n",
       "      <td>No</td>\n",
       "      <td>No</td>\n",
       "      <td>No</td>\n",
       "      <td>Month-to-month</td>\n",
       "      <td>Yes</td>\n",
       "      <td>Electronic check</td>\n",
       "      <td>29.85</td>\n",
       "      <td>29.85</td>\n",
       "    </tr>\n",
       "    <tr>\n",
       "      <td>1</td>\n",
       "      <td>No</td>\n",
       "      <td>5575-GNVDE</td>\n",
       "      <td>Male</td>\n",
       "      <td>0</td>\n",
       "      <td>No</td>\n",
       "      <td>No</td>\n",
       "      <td>34</td>\n",
       "      <td>Yes</td>\n",
       "      <td>No</td>\n",
       "      <td>DSL</td>\n",
       "      <td>...</td>\n",
       "      <td>No</td>\n",
       "      <td>Yes</td>\n",
       "      <td>No</td>\n",
       "      <td>No</td>\n",
       "      <td>No</td>\n",
       "      <td>One year</td>\n",
       "      <td>No</td>\n",
       "      <td>Mailed check</td>\n",
       "      <td>56.95</td>\n",
       "      <td>1889.50</td>\n",
       "    </tr>\n",
       "    <tr>\n",
       "      <td>2</td>\n",
       "      <td>Yes</td>\n",
       "      <td>3668-QPYBK</td>\n",
       "      <td>Male</td>\n",
       "      <td>0</td>\n",
       "      <td>No</td>\n",
       "      <td>No</td>\n",
       "      <td>2</td>\n",
       "      <td>Yes</td>\n",
       "      <td>No</td>\n",
       "      <td>DSL</td>\n",
       "      <td>...</td>\n",
       "      <td>Yes</td>\n",
       "      <td>No</td>\n",
       "      <td>No</td>\n",
       "      <td>No</td>\n",
       "      <td>No</td>\n",
       "      <td>Month-to-month</td>\n",
       "      <td>Yes</td>\n",
       "      <td>Mailed check</td>\n",
       "      <td>53.85</td>\n",
       "      <td>108.15</td>\n",
       "    </tr>\n",
       "    <tr>\n",
       "      <td>3</td>\n",
       "      <td>No</td>\n",
       "      <td>7795-CFOCW</td>\n",
       "      <td>Male</td>\n",
       "      <td>0</td>\n",
       "      <td>No</td>\n",
       "      <td>No</td>\n",
       "      <td>45</td>\n",
       "      <td>No</td>\n",
       "      <td>No phone service</td>\n",
       "      <td>DSL</td>\n",
       "      <td>...</td>\n",
       "      <td>No</td>\n",
       "      <td>Yes</td>\n",
       "      <td>Yes</td>\n",
       "      <td>No</td>\n",
       "      <td>No</td>\n",
       "      <td>One year</td>\n",
       "      <td>No</td>\n",
       "      <td>Bank transfer (automatic)</td>\n",
       "      <td>42.30</td>\n",
       "      <td>1840.75</td>\n",
       "    </tr>\n",
       "    <tr>\n",
       "      <td>4</td>\n",
       "      <td>Yes</td>\n",
       "      <td>9237-HQITU</td>\n",
       "      <td>Female</td>\n",
       "      <td>0</td>\n",
       "      <td>No</td>\n",
       "      <td>No</td>\n",
       "      <td>2</td>\n",
       "      <td>Yes</td>\n",
       "      <td>No</td>\n",
       "      <td>Fiber optic</td>\n",
       "      <td>...</td>\n",
       "      <td>No</td>\n",
       "      <td>No</td>\n",
       "      <td>No</td>\n",
       "      <td>No</td>\n",
       "      <td>No</td>\n",
       "      <td>Month-to-month</td>\n",
       "      <td>Yes</td>\n",
       "      <td>Electronic check</td>\n",
       "      <td>70.70</td>\n",
       "      <td>151.65</td>\n",
       "    </tr>\n",
       "  </tbody>\n",
       "</table>\n",
       "<p>5 rows × 21 columns</p>\n",
       "</div>"
      ],
      "text/plain": [
       "  Churn  customerID  gender  SeniorCitizen Partner Dependents  tenure  \\\n",
       "0    No  7590-VHVEG  Female              0     Yes         No       1   \n",
       "1    No  5575-GNVDE    Male              0      No         No      34   \n",
       "2   Yes  3668-QPYBK    Male              0      No         No       2   \n",
       "3    No  7795-CFOCW    Male              0      No         No      45   \n",
       "4   Yes  9237-HQITU  Female              0      No         No       2   \n",
       "\n",
       "  PhoneService     MultipleLines InternetService  ... OnlineBackup  \\\n",
       "0           No  No phone service             DSL  ...          Yes   \n",
       "1          Yes                No             DSL  ...           No   \n",
       "2          Yes                No             DSL  ...          Yes   \n",
       "3           No  No phone service             DSL  ...           No   \n",
       "4          Yes                No     Fiber optic  ...           No   \n",
       "\n",
       "  DeviceProtection TechSupport StreamingTV StreamingMovies        Contract  \\\n",
       "0               No          No          No              No  Month-to-month   \n",
       "1              Yes          No          No              No        One year   \n",
       "2               No          No          No              No  Month-to-month   \n",
       "3              Yes         Yes          No              No        One year   \n",
       "4               No          No          No              No  Month-to-month   \n",
       "\n",
       "  PaperlessBilling              PaymentMethod MonthlyCharges  TotalCharges  \n",
       "0              Yes           Electronic check          29.85         29.85  \n",
       "1               No               Mailed check          56.95       1889.50  \n",
       "2              Yes               Mailed check          53.85        108.15  \n",
       "3               No  Bank transfer (automatic)          42.30       1840.75  \n",
       "4              Yes           Electronic check          70.70        151.65  \n",
       "\n",
       "[5 rows x 21 columns]"
      ]
     },
     "execution_count": 3,
     "metadata": {},
     "output_type": "execute_result"
    }
   ],
   "source": [
    "#setting the target variable as Churn\n",
    "target_name='Churn'\n",
    "target_series=churn_data[target_name]\n",
    "\n",
    "#remove the target from current position\n",
    "churn_data.drop(columns='Churn',inplace=True)\n",
    "\n",
    "#insert the target column in first row\n",
    "churn_data.insert(0,target_name,target_series)\n",
    "churn_data.head(5)"
   ]
  },
  {
   "cell_type": "markdown",
   "metadata": {},
   "source": [
    "### Exploratory Data Analysis"
   ]
  },
  {
   "cell_type": "code",
   "execution_count": 31,
   "metadata": {},
   "outputs": [
    {
     "name": "stdout",
     "output_type": "stream",
     "text": [
      "(7043, 45)\n",
      "Churn                                        int32\n",
      "SeniorCitizen                                int64\n",
      "tenure                                       int64\n",
      "MonthlyCharges                             float64\n",
      "gender_Female                                uint8\n",
      "gender_Male                                  uint8\n",
      "Partner_No                                   uint8\n",
      "Partner_Yes                                  uint8\n",
      "Dependents_No                                uint8\n",
      "Dependents_Yes                               uint8\n",
      "PhoneService_No                              uint8\n",
      "PhoneService_Yes                             uint8\n",
      "MultipleLines_No                             uint8\n",
      "MultipleLines_No phone service               uint8\n",
      "MultipleLines_Yes                            uint8\n",
      "InternetService_DSL                          uint8\n",
      "InternetService_Fiber optic                  uint8\n",
      "InternetService_No                           uint8\n",
      "OnlineSecurity_No                            uint8\n",
      "OnlineSecurity_No internet service           uint8\n",
      "OnlineSecurity_Yes                           uint8\n",
      "OnlineBackup_No                              uint8\n",
      "OnlineBackup_No internet service             uint8\n",
      "OnlineBackup_Yes                             uint8\n",
      "DeviceProtection_No                          uint8\n",
      "DeviceProtection_No internet service         uint8\n",
      "DeviceProtection_Yes                         uint8\n",
      "TechSupport_No                               uint8\n",
      "TechSupport_No internet service              uint8\n",
      "TechSupport_Yes                              uint8\n",
      "StreamingTV_No                               uint8\n",
      "StreamingTV_No internet service              uint8\n",
      "StreamingTV_Yes                              uint8\n",
      "StreamingMovies_No                           uint8\n",
      "StreamingMovies_No internet service          uint8\n",
      "StreamingMovies_Yes                          uint8\n",
      "Contract_Month-to-month                      uint8\n",
      "Contract_One year                            uint8\n",
      "Contract_Two year                            uint8\n",
      "PaperlessBilling_No                          uint8\n",
      "PaperlessBilling_Yes                         uint8\n",
      "PaymentMethod_Bank transfer (automatic)      uint8\n",
      "PaymentMethod_Credit card (automatic)        uint8\n",
      "PaymentMethod_Electronic check               uint8\n",
      "PaymentMethod_Mailed check                   uint8\n",
      "dtype: object\n"
     ]
    },
    {
     "data": {
      "text/plain": [
       "<matplotlib.axes._subplots.AxesSubplot at 0x23abd801bc8>"
      ]
     },
     "execution_count": 31,
     "metadata": {},
     "output_type": "execute_result"
    },
    {
     "data": {
      "image/png": "[encoded data removed]",
      "text/plain": [
       "<Figure size 432x288 with 1 Axes>"
      ]
     },
     "metadata": {
      "needs_background": "light"
     },
     "output_type": "display_data"
    }
   ],
   "source": [
    "#number of rows and columns\n",
    "print(churn_data.shape)\n",
    "\n",
    "#data types of the variables included\n",
    "print(churn_data.dtypes)\n",
    "\n",
    "#graph for churn frequency\n",
    "plt.title(\"Churn Frequency\")\n",
    "churn_data['Churn'].value_counts().plot(kind='bar')"
   ]
  },
  {
   "cell_type": "markdown",
   "metadata": {},
   "source": [
    "Just wanted to a get an idea of the variables in the data set. We have 20 features and one target variable. Most of the features are in object type and will need to be converted to dummies for analysis. We also can look to the bar chart to confirm that we have enough of both \"yes\" and \"no\" within the target variable to train a robust model."
   ]
  },
  {
   "cell_type": "code",
   "execution_count": 5,
   "metadata": {},
   "outputs": [
    {
     "name": "stdout",
     "output_type": "stream",
     "text": [
      "Churn               0\n",
      "customerID          0\n",
      "gender              0\n",
      "SeniorCitizen       0\n",
      "Partner             0\n",
      "Dependents          0\n",
      "tenure              0\n",
      "PhoneService        0\n",
      "MultipleLines       0\n",
      "InternetService     0\n",
      "OnlineSecurity      0\n",
      "OnlineBackup        0\n",
      "DeviceProtection    0\n",
      "TechSupport         0\n",
      "StreamingTV         0\n",
      "StreamingMovies     0\n",
      "Contract            0\n",
      "PaperlessBilling    0\n",
      "PaymentMethod       0\n",
      "MonthlyCharges      0\n",
      "TotalCharges        0\n",
      "dtype: int64\n"
     ]
    }
   ],
   "source": [
    "#checking for missing values in the columns\n",
    "print(churn_data.isnull().sum())"
   ]
  },
  {
   "cell_type": "code",
   "execution_count": 30,
   "metadata": {},
   "outputs": [
    {
     "data": {
      "text/plain": [
       "<matplotlib.axes._subplots.AxesSubplot at 0x23abf0e2848>"
      ]
     },
     "execution_count": 30,
     "metadata": {},
     "output_type": "execute_result"
    },
    {
     "data": {
      "image/png": "[encoded data removed]",
      "text/plain": [
       "<Figure size 432x288 with 1 Axes>"
      ]
     },
     "metadata": {
      "needs_background": "light"
     },
     "output_type": "display_data"
    }
   ],
   "source": [
    "#histogram of the monthly charges\n",
    "plt.title(\"Distribution of Monthly Charges\")\n",
    "churn_data.MonthlyCharges.plot.hist()"
   ]
  },
  {
   "cell_type": "markdown",
   "metadata": {},
   "source": [
    "#### Observations:\n",
    "\n",
    "* This dataset is very clean and has are no missing values. \n",
    "* The distribution of monthly charges indicates that a large portion of customers are the 20-30 dollar range. This is to be expected as telecommunication companies are always offering lowered prices to entice new customers. \n",
    "* Looking past that, there seems to be a normal distribution with a mid point around 70-80 dollars."
   ]
  },
  {
   "cell_type": "code",
   "execution_count": 7,
   "metadata": {},
   "outputs": [
    {
     "data": {
      "text/plain": [
       "Text(0, 0.5, 'Count of Customers')"
      ]
     },
     "execution_count": 7,
     "metadata": {},
     "output_type": "execute_result"
    },
    {
     "data": {
      "image/png": "[encoded data removed]",
      "text/plain": [
       "<Figure size 720x720 with 1 Axes>"
      ]
     },
     "metadata": {
      "needs_background": "light"
     },
     "output_type": "display_data"
    }
   ],
   "source": [
    "#looking at tenure distribution in churn -- code from https://www.kaggle.com/kitsdmit/customer-churn-eda-feature-engineering-and-model\n",
    "fig, ax = plt.subplots(figsize = (10,10))\n",
    "churn_data.tenure[churn_data.Churn == 'Yes'].hist(bins=20)\n",
    "churn_data.tenure[churn_data.Churn == 'No'].hist(bins=20, alpha=0.5)\n",
    "plt.legend(['Churn Customers', 'Non-Churn Customers'])\n",
    "plt.title('Customer Tenure')\n",
    "plt.xlabel('Tenure')\n",
    "plt.ylabel('Count of Customers')"
   ]
  },
  {
   "cell_type": "code",
   "execution_count": 8,
   "metadata": {},
   "outputs": [
    {
     "data": {
      "image/png": "[encoded data removed]",
      "text/plain": [
       "<Figure size 432x288 with 2 Axes>"
      ]
     },
     "metadata": {
      "needs_background": "light"
     },
     "output_type": "display_data"
    }
   ],
   "source": [
    "#converting Total Charges to a numeric value\n",
    "churn_data[\"TotalCharges\"] = pd.to_numeric(churn_data.TotalCharges, errors='coerce')\n",
    "\n",
    "##corr matrix of all numeric variables\n",
    "cor_matrix=churn_data.corr()\n",
    "\n",
    "#visual corr matrix\n",
    "sn.heatmap(cor_matrix, annot=True)\n",
    "\n",
    "# fix for mpl bug that cuts off top/bottom of seaborn viz (Code by Salmac86 https://github.com/mwaskom/seaborn/issues/1773)\n",
    "b, t = plt.ylim()\n",
    "b += 0.5\n",
    "t -= 0.5 \n",
    "plt.ylim(b, t) \n",
    "\n",
    "#draw the matrix\n",
    "plt.show()"
   ]
  },
  {
   "cell_type": "code",
   "execution_count": 10,
   "metadata": {},
   "outputs": [
    {
     "name": "stdout",
     "output_type": "stream",
     "text": [
      "Bar Charts for all Categorical Variables\n"
     ]
    },
    {
     "data": {
      "image/png": "[encoded data removed]",
      "text/plain": [
       "<Figure size 2880x1440 with 15 Axes>"
      ]
     },
     "metadata": {
      "needs_background": "light"
     },
     "output_type": "display_data"
    }
   ],
   "source": [
    "#visualizing all the categorical features\n",
    "#creating list of all columns\n",
    "columns_bar= churn_data.select_dtypes(include=object)\n",
    "columns_bar= list(columns_bar.columns)\n",
    "columns_bar.remove('Churn')\n",
    "columns_bar.remove('customerID')\n",
    "\n",
    "#creating a matrix to display all charts\n",
    "columns_bar_array = np.array(columns_bar)\n",
    "columns_bar_array = np.reshape(columns_bar_array, (3,5))\n",
    "\n",
    "#plotting the bar charts\n",
    "rows = 3 ; columns = 5\n",
    "f, axes = plt.subplots(rows, columns, figsize=(40,20))\n",
    "print (\"Bar Charts for all Categorical Variables\")\n",
    "for row in range(rows):\n",
    "    for column in range(columns):\n",
    "        sn.countplot(churn_data[columns_bar_array[row][column]], ax = axes[row, column])"
   ]
  },
  {
   "cell_type": "markdown",
   "metadata": {},
   "source": [
    "#### Observations:\n",
    "* As expected the total charges show a high correaltion with Tenure. This is because total charges is really a product of monthly charges and tenure\n",
    "* Split between male/female and partner/no partner is about equal\n",
    "* Most (over 4,000) customers pay electronically\n",
    "* Most customers prefer a no contract, month to month plan\n",
    "\n",
    "#### Potential Extra Features:\n",
    "* Partnered and having kids probably means being a family unit\n",
    "* Subsribing to our phone service, internet service, streaming TV and streaming movies means that we are their sole provider or at least their main provider. "
   ]
  },
  {
   "cell_type": "markdown",
   "metadata": {},
   "source": [
    "### Preproccessing "
   ]
  },
  {
   "cell_type": "code",
   "execution_count": 11,
   "metadata": {},
   "outputs": [
    {
     "data": {
      "text/html": [
       "<div>\n",
       "<style scoped>\n",
       "    .dataframe tbody tr th:only-of-type {\n",
       "        vertical-align: middle;\n",
       "    }\n",
       "\n",
       "    .dataframe tbody tr th {\n",
       "        vertical-align: top;\n",
       "    }\n",
       "\n",
       "    .dataframe thead th {\n",
       "        text-align: right;\n",
       "    }\n",
       "</style>\n",
       "<table border=\"1\" class=\"dataframe\">\n",
       "  <thead>\n",
       "    <tr style=\"text-align: right;\">\n",
       "      <th></th>\n",
       "      <th>Churn</th>\n",
       "      <th>gender</th>\n",
       "      <th>SeniorCitizen</th>\n",
       "      <th>Partner</th>\n",
       "      <th>Dependents</th>\n",
       "      <th>tenure</th>\n",
       "      <th>PhoneService</th>\n",
       "      <th>MultipleLines</th>\n",
       "      <th>InternetService</th>\n",
       "      <th>OnlineSecurity</th>\n",
       "      <th>OnlineBackup</th>\n",
       "      <th>DeviceProtection</th>\n",
       "      <th>TechSupport</th>\n",
       "      <th>StreamingTV</th>\n",
       "      <th>StreamingMovies</th>\n",
       "      <th>Contract</th>\n",
       "      <th>PaperlessBilling</th>\n",
       "      <th>PaymentMethod</th>\n",
       "      <th>MonthlyCharges</th>\n",
       "    </tr>\n",
       "  </thead>\n",
       "  <tbody>\n",
       "    <tr>\n",
       "      <td>0</td>\n",
       "      <td>No</td>\n",
       "      <td>Female</td>\n",
       "      <td>0</td>\n",
       "      <td>Yes</td>\n",
       "      <td>No</td>\n",
       "      <td>1</td>\n",
       "      <td>No</td>\n",
       "      <td>No phone service</td>\n",
       "      <td>DSL</td>\n",
       "      <td>No</td>\n",
       "      <td>Yes</td>\n",
       "      <td>No</td>\n",
       "      <td>No</td>\n",
       "      <td>No</td>\n",
       "      <td>No</td>\n",
       "      <td>Month-to-month</td>\n",
       "      <td>Yes</td>\n",
       "      <td>Electronic check</td>\n",
       "      <td>29.85</td>\n",
       "    </tr>\n",
       "    <tr>\n",
       "      <td>1</td>\n",
       "      <td>No</td>\n",
       "      <td>Male</td>\n",
       "      <td>0</td>\n",
       "      <td>No</td>\n",
       "      <td>No</td>\n",
       "      <td>34</td>\n",
       "      <td>Yes</td>\n",
       "      <td>No</td>\n",
       "      <td>DSL</td>\n",
       "      <td>Yes</td>\n",
       "      <td>No</td>\n",
       "      <td>Yes</td>\n",
       "      <td>No</td>\n",
       "      <td>No</td>\n",
       "      <td>No</td>\n",
       "      <td>One year</td>\n",
       "      <td>No</td>\n",
       "      <td>Mailed check</td>\n",
       "      <td>56.95</td>\n",
       "    </tr>\n",
       "    <tr>\n",
       "      <td>2</td>\n",
       "      <td>Yes</td>\n",
       "      <td>Male</td>\n",
       "      <td>0</td>\n",
       "      <td>No</td>\n",
       "      <td>No</td>\n",
       "      <td>2</td>\n",
       "      <td>Yes</td>\n",
       "      <td>No</td>\n",
       "      <td>DSL</td>\n",
       "      <td>Yes</td>\n",
       "      <td>Yes</td>\n",
       "      <td>No</td>\n",
       "      <td>No</td>\n",
       "      <td>No</td>\n",
       "      <td>No</td>\n",
       "      <td>Month-to-month</td>\n",
       "      <td>Yes</td>\n",
       "      <td>Mailed check</td>\n",
       "      <td>53.85</td>\n",
       "    </tr>\n",
       "    <tr>\n",
       "      <td>3</td>\n",
       "      <td>No</td>\n",
       "      <td>Male</td>\n",
       "      <td>0</td>\n",
       "      <td>No</td>\n",
       "      <td>No</td>\n",
       "      <td>45</td>\n",
       "      <td>No</td>\n",
       "      <td>No phone service</td>\n",
       "      <td>DSL</td>\n",
       "      <td>Yes</td>\n",
       "      <td>No</td>\n",
       "      <td>Yes</td>\n",
       "      <td>Yes</td>\n",
       "      <td>No</td>\n",
       "      <td>No</td>\n",
       "      <td>One year</td>\n",
       "      <td>No</td>\n",
       "      <td>Bank transfer (automatic)</td>\n",
       "      <td>42.30</td>\n",
       "    </tr>\n",
       "    <tr>\n",
       "      <td>4</td>\n",
       "      <td>Yes</td>\n",
       "      <td>Female</td>\n",
       "      <td>0</td>\n",
       "      <td>No</td>\n",
       "      <td>No</td>\n",
       "      <td>2</td>\n",
       "      <td>Yes</td>\n",
       "      <td>No</td>\n",
       "      <td>Fiber optic</td>\n",
       "      <td>No</td>\n",
       "      <td>No</td>\n",
       "      <td>No</td>\n",
       "      <td>No</td>\n",
       "      <td>No</td>\n",
       "      <td>No</td>\n",
       "      <td>Month-to-month</td>\n",
       "      <td>Yes</td>\n",
       "      <td>Electronic check</td>\n",
       "      <td>70.70</td>\n",
       "    </tr>\n",
       "  </tbody>\n",
       "</table>\n",
       "</div>"
      ],
      "text/plain": [
       "  Churn  gender  SeniorCitizen Partner Dependents  tenure PhoneService  \\\n",
       "0    No  Female              0     Yes         No       1           No   \n",
       "1    No    Male              0      No         No      34          Yes   \n",
       "2   Yes    Male              0      No         No       2          Yes   \n",
       "3    No    Male              0      No         No      45           No   \n",
       "4   Yes  Female              0      No         No       2          Yes   \n",
       "\n",
       "      MultipleLines InternetService OnlineSecurity OnlineBackup  \\\n",
       "0  No phone service             DSL             No          Yes   \n",
       "1                No             DSL            Yes           No   \n",
       "2                No             DSL            Yes          Yes   \n",
       "3  No phone service             DSL            Yes           No   \n",
       "4                No     Fiber optic             No           No   \n",
       "\n",
       "  DeviceProtection TechSupport StreamingTV StreamingMovies        Contract  \\\n",
       "0               No          No          No              No  Month-to-month   \n",
       "1              Yes          No          No              No        One year   \n",
       "2               No          No          No              No  Month-to-month   \n",
       "3              Yes         Yes          No              No        One year   \n",
       "4               No          No          No              No  Month-to-month   \n",
       "\n",
       "  PaperlessBilling              PaymentMethod  MonthlyCharges  \n",
       "0              Yes           Electronic check           29.85  \n",
       "1               No               Mailed check           56.95  \n",
       "2              Yes               Mailed check           53.85  \n",
       "3               No  Bank transfer (automatic)           42.30  \n",
       "4              Yes           Electronic check           70.70  "
      ]
     },
     "execution_count": 11,
     "metadata": {},
     "output_type": "execute_result"
    }
   ],
   "source": [
    "#taking out total charges and customer ID\n",
    "churn_data = churn_data.drop(['TotalCharges', 'customerID'], axis=1)\n",
    "churn_data.head(5)"
   ]
  },
  {
   "cell_type": "code",
   "execution_count": 12,
   "metadata": {},
   "outputs": [],
   "source": [
    "# This code turns a text target into numeric to some scikit learn algorithms can process it\n",
    "le_dep = preprocessing.LabelEncoder()\n",
    "\n",
    "# to convert into numbers\n",
    "churn_data['Churn'] = le_dep.fit_transform(churn_data['Churn'])"
   ]
  },
  {
   "cell_type": "code",
   "execution_count": 13,
   "metadata": {},
   "outputs": [
    {
     "data": {
      "text/html": [
       "<div>\n",
       "<style scoped>\n",
       "    .dataframe tbody tr th:only-of-type {\n",
       "        vertical-align: middle;\n",
       "    }\n",
       "\n",
       "    .dataframe tbody tr th {\n",
       "        vertical-align: top;\n",
       "    }\n",
       "\n",
       "    .dataframe thead th {\n",
       "        text-align: right;\n",
       "    }\n",
       "</style>\n",
       "<table border=\"1\" class=\"dataframe\">\n",
       "  <thead>\n",
       "    <tr style=\"text-align: right;\">\n",
       "      <th></th>\n",
       "      <th>Churn</th>\n",
       "      <th>SeniorCitizen</th>\n",
       "      <th>tenure</th>\n",
       "      <th>MonthlyCharges</th>\n",
       "      <th>gender_Female</th>\n",
       "      <th>gender_Male</th>\n",
       "      <th>Partner_No</th>\n",
       "      <th>Partner_Yes</th>\n",
       "      <th>Dependents_No</th>\n",
       "      <th>Dependents_Yes</th>\n",
       "      <th>...</th>\n",
       "      <th>StreamingMovies_Yes</th>\n",
       "      <th>Contract_Month-to-month</th>\n",
       "      <th>Contract_One year</th>\n",
       "      <th>Contract_Two year</th>\n",
       "      <th>PaperlessBilling_No</th>\n",
       "      <th>PaperlessBilling_Yes</th>\n",
       "      <th>PaymentMethod_Bank transfer (automatic)</th>\n",
       "      <th>PaymentMethod_Credit card (automatic)</th>\n",
       "      <th>PaymentMethod_Electronic check</th>\n",
       "      <th>PaymentMethod_Mailed check</th>\n",
       "    </tr>\n",
       "  </thead>\n",
       "  <tbody>\n",
       "    <tr>\n",
       "      <td>0</td>\n",
       "      <td>0</td>\n",
       "      <td>0</td>\n",
       "      <td>1</td>\n",
       "      <td>29.85</td>\n",
       "      <td>1</td>\n",
       "      <td>0</td>\n",
       "      <td>0</td>\n",
       "      <td>1</td>\n",
       "      <td>1</td>\n",
       "      <td>0</td>\n",
       "      <td>...</td>\n",
       "      <td>0</td>\n",
       "      <td>1</td>\n",
       "      <td>0</td>\n",
       "      <td>0</td>\n",
       "      <td>0</td>\n",
       "      <td>1</td>\n",
       "      <td>0</td>\n",
       "      <td>0</td>\n",
       "      <td>1</td>\n",
       "      <td>0</td>\n",
       "    </tr>\n",
       "    <tr>\n",
       "      <td>1</td>\n",
       "      <td>0</td>\n",
       "      <td>0</td>\n",
       "      <td>34</td>\n",
       "      <td>56.95</td>\n",
       "      <td>0</td>\n",
       "      <td>1</td>\n",
       "      <td>1</td>\n",
       "      <td>0</td>\n",
       "      <td>1</td>\n",
       "      <td>0</td>\n",
       "      <td>...</td>\n",
       "      <td>0</td>\n",
       "      <td>0</td>\n",
       "      <td>1</td>\n",
       "      <td>0</td>\n",
       "      <td>1</td>\n",
       "      <td>0</td>\n",
       "      <td>0</td>\n",
       "      <td>0</td>\n",
       "      <td>0</td>\n",
       "      <td>1</td>\n",
       "    </tr>\n",
       "    <tr>\n",
       "      <td>2</td>\n",
       "      <td>1</td>\n",
       "      <td>0</td>\n",
       "      <td>2</td>\n",
       "      <td>53.85</td>\n",
       "      <td>0</td>\n",
       "      <td>1</td>\n",
       "      <td>1</td>\n",
       "      <td>0</td>\n",
       "      <td>1</td>\n",
       "      <td>0</td>\n",
       "      <td>...</td>\n",
       "      <td>0</td>\n",
       "      <td>1</td>\n",
       "      <td>0</td>\n",
       "      <td>0</td>\n",
       "      <td>0</td>\n",
       "      <td>1</td>\n",
       "      <td>0</td>\n",
       "      <td>0</td>\n",
       "      <td>0</td>\n",
       "      <td>1</td>\n",
       "    </tr>\n",
       "    <tr>\n",
       "      <td>3</td>\n",
       "      <td>0</td>\n",
       "      <td>0</td>\n",
       "      <td>45</td>\n",
       "      <td>42.30</td>\n",
       "      <td>0</td>\n",
       "      <td>1</td>\n",
       "      <td>1</td>\n",
       "      <td>0</td>\n",
       "      <td>1</td>\n",
       "      <td>0</td>\n",
       "      <td>...</td>\n",
       "      <td>0</td>\n",
       "      <td>0</td>\n",
       "      <td>1</td>\n",
       "      <td>0</td>\n",
       "      <td>1</td>\n",
       "      <td>0</td>\n",
       "      <td>1</td>\n",
       "      <td>0</td>\n",
       "      <td>0</td>\n",
       "      <td>0</td>\n",
       "    </tr>\n",
       "    <tr>\n",
       "      <td>4</td>\n",
       "      <td>1</td>\n",
       "      <td>0</td>\n",
       "      <td>2</td>\n",
       "      <td>70.70</td>\n",
       "      <td>1</td>\n",
       "      <td>0</td>\n",
       "      <td>1</td>\n",
       "      <td>0</td>\n",
       "      <td>1</td>\n",
       "      <td>0</td>\n",
       "      <td>...</td>\n",
       "      <td>0</td>\n",
       "      <td>1</td>\n",
       "      <td>0</td>\n",
       "      <td>0</td>\n",
       "      <td>0</td>\n",
       "      <td>1</td>\n",
       "      <td>0</td>\n",
       "      <td>0</td>\n",
       "      <td>1</td>\n",
       "      <td>0</td>\n",
       "    </tr>\n",
       "    <tr>\n",
       "      <td>...</td>\n",
       "      <td>...</td>\n",
       "      <td>...</td>\n",
       "      <td>...</td>\n",
       "      <td>...</td>\n",
       "      <td>...</td>\n",
       "      <td>...</td>\n",
       "      <td>...</td>\n",
       "      <td>...</td>\n",
       "      <td>...</td>\n",
       "      <td>...</td>\n",
       "      <td>...</td>\n",
       "      <td>...</td>\n",
       "      <td>...</td>\n",
       "      <td>...</td>\n",
       "      <td>...</td>\n",
       "      <td>...</td>\n",
       "      <td>...</td>\n",
       "      <td>...</td>\n",
       "      <td>...</td>\n",
       "      <td>...</td>\n",
       "      <td>...</td>\n",
       "    </tr>\n",
       "    <tr>\n",
       "      <td>7038</td>\n",
       "      <td>0</td>\n",
       "      <td>0</td>\n",
       "      <td>24</td>\n",
       "      <td>84.80</td>\n",
       "      <td>0</td>\n",
       "      <td>1</td>\n",
       "      <td>0</td>\n",
       "      <td>1</td>\n",
       "      <td>0</td>\n",
       "      <td>1</td>\n",
       "      <td>...</td>\n",
       "      <td>1</td>\n",
       "      <td>0</td>\n",
       "      <td>1</td>\n",
       "      <td>0</td>\n",
       "      <td>0</td>\n",
       "      <td>1</td>\n",
       "      <td>0</td>\n",
       "      <td>0</td>\n",
       "      <td>0</td>\n",
       "      <td>1</td>\n",
       "    </tr>\n",
       "    <tr>\n",
       "      <td>7039</td>\n",
       "      <td>0</td>\n",
       "      <td>0</td>\n",
       "      <td>72</td>\n",
       "      <td>103.20</td>\n",
       "      <td>1</td>\n",
       "      <td>0</td>\n",
       "      <td>0</td>\n",
       "      <td>1</td>\n",
       "      <td>0</td>\n",
       "      <td>1</td>\n",
       "      <td>...</td>\n",
       "      <td>1</td>\n",
       "      <td>0</td>\n",
       "      <td>1</td>\n",
       "      <td>0</td>\n",
       "      <td>0</td>\n",
       "      <td>1</td>\n",
       "      <td>0</td>\n",
       "      <td>1</td>\n",
       "      <td>0</td>\n",
       "      <td>0</td>\n",
       "    </tr>\n",
       "    <tr>\n",
       "      <td>7040</td>\n",
       "      <td>0</td>\n",
       "      <td>0</td>\n",
       "      <td>11</td>\n",
       "      <td>29.60</td>\n",
       "      <td>1</td>\n",
       "      <td>0</td>\n",
       "      <td>0</td>\n",
       "      <td>1</td>\n",
       "      <td>0</td>\n",
       "      <td>1</td>\n",
       "      <td>...</td>\n",
       "      <td>0</td>\n",
       "      <td>1</td>\n",
       "      <td>0</td>\n",
       "      <td>0</td>\n",
       "      <td>0</td>\n",
       "      <td>1</td>\n",
       "      <td>0</td>\n",
       "      <td>0</td>\n",
       "      <td>1</td>\n",
       "      <td>0</td>\n",
       "    </tr>\n",
       "    <tr>\n",
       "      <td>7041</td>\n",
       "      <td>1</td>\n",
       "      <td>1</td>\n",
       "      <td>4</td>\n",
       "      <td>74.40</td>\n",
       "      <td>0</td>\n",
       "      <td>1</td>\n",
       "      <td>0</td>\n",
       "      <td>1</td>\n",
       "      <td>1</td>\n",
       "      <td>0</td>\n",
       "      <td>...</td>\n",
       "      <td>0</td>\n",
       "      <td>1</td>\n",
       "      <td>0</td>\n",
       "      <td>0</td>\n",
       "      <td>0</td>\n",
       "      <td>1</td>\n",
       "      <td>0</td>\n",
       "      <td>0</td>\n",
       "      <td>0</td>\n",
       "      <td>1</td>\n",
       "    </tr>\n",
       "    <tr>\n",
       "      <td>7042</td>\n",
       "      <td>0</td>\n",
       "      <td>0</td>\n",
       "      <td>66</td>\n",
       "      <td>105.65</td>\n",
       "      <td>0</td>\n",
       "      <td>1</td>\n",
       "      <td>1</td>\n",
       "      <td>0</td>\n",
       "      <td>1</td>\n",
       "      <td>0</td>\n",
       "      <td>...</td>\n",
       "      <td>1</td>\n",
       "      <td>0</td>\n",
       "      <td>0</td>\n",
       "      <td>1</td>\n",
       "      <td>0</td>\n",
       "      <td>1</td>\n",
       "      <td>1</td>\n",
       "      <td>0</td>\n",
       "      <td>0</td>\n",
       "      <td>0</td>\n",
       "    </tr>\n",
       "  </tbody>\n",
       "</table>\n",
       "<p>7043 rows × 45 columns</p>\n",
       "</div>"
      ],
      "text/plain": [
       "      Churn  SeniorCitizen  tenure  MonthlyCharges  gender_Female  \\\n",
       "0         0              0       1           29.85              1   \n",
       "1         0              0      34           56.95              0   \n",
       "2         1              0       2           53.85              0   \n",
       "3         0              0      45           42.30              0   \n",
       "4         1              0       2           70.70              1   \n",
       "...     ...            ...     ...             ...            ...   \n",
       "7038      0              0      24           84.80              0   \n",
       "7039      0              0      72          103.20              1   \n",
       "7040      0              0      11           29.60              1   \n",
       "7041      1              1       4           74.40              0   \n",
       "7042      0              0      66          105.65              0   \n",
       "\n",
       "      gender_Male  Partner_No  Partner_Yes  Dependents_No  Dependents_Yes  \\\n",
       "0               0           0            1              1               0   \n",
       "1               1           1            0              1               0   \n",
       "2               1           1            0              1               0   \n",
       "3               1           1            0              1               0   \n",
       "4               0           1            0              1               0   \n",
       "...           ...         ...          ...            ...             ...   \n",
       "7038            1           0            1              0               1   \n",
       "7039            0           0            1              0               1   \n",
       "7040            0           0            1              0               1   \n",
       "7041            1           0            1              1               0   \n",
       "7042            1           1            0              1               0   \n",
       "\n",
       "      ...  StreamingMovies_Yes  Contract_Month-to-month  Contract_One year  \\\n",
       "0     ...                    0                        1                  0   \n",
       "1     ...                    0                        0                  1   \n",
       "2     ...                    0                        1                  0   \n",
       "3     ...                    0                        0                  1   \n",
       "4     ...                    0                        1                  0   \n",
       "...   ...                  ...                      ...                ...   \n",
       "7038  ...                    1                        0                  1   \n",
       "7039  ...                    1                        0                  1   \n",
       "7040  ...                    0                        1                  0   \n",
       "7041  ...                    0                        1                  0   \n",
       "7042  ...                    1                        0                  0   \n",
       "\n",
       "      Contract_Two year  PaperlessBilling_No  PaperlessBilling_Yes  \\\n",
       "0                     0                    0                     1   \n",
       "1                     0                    1                     0   \n",
       "2                     0                    0                     1   \n",
       "3                     0                    1                     0   \n",
       "4                     0                    0                     1   \n",
       "...                 ...                  ...                   ...   \n",
       "7038                  0                    0                     1   \n",
       "7039                  0                    0                     1   \n",
       "7040                  0                    0                     1   \n",
       "7041                  0                    0                     1   \n",
       "7042                  1                    0                     1   \n",
       "\n",
       "      PaymentMethod_Bank transfer (automatic)  \\\n",
       "0                                           0   \n",
       "1                                           0   \n",
       "2                                           0   \n",
       "3                                           1   \n",
       "4                                           0   \n",
       "...                                       ...   \n",
       "7038                                        0   \n",
       "7039                                        0   \n",
       "7040                                        0   \n",
       "7041                                        0   \n",
       "7042                                        1   \n",
       "\n",
       "      PaymentMethod_Credit card (automatic)  PaymentMethod_Electronic check  \\\n",
       "0                                         0                               1   \n",
       "1                                         0                               0   \n",
       "2                                         0                               0   \n",
       "3                                         0                               0   \n",
       "4                                         0                               1   \n",
       "...                                     ...                             ...   \n",
       "7038                                      0                               0   \n",
       "7039                                      1                               0   \n",
       "7040                                      0                               1   \n",
       "7041                                      0                               0   \n",
       "7042                                      0                               0   \n",
       "\n",
       "      PaymentMethod_Mailed check  \n",
       "0                              0  \n",
       "1                              1  \n",
       "2                              1  \n",
       "3                              0  \n",
       "4                              0  \n",
       "...                          ...  \n",
       "7038                           1  \n",
       "7039                           0  \n",
       "7040                           0  \n",
       "7041                           1  \n",
       "7042                           0  \n",
       "\n",
       "[7043 rows x 45 columns]"
      ]
     },
     "execution_count": 13,
     "metadata": {},
     "output_type": "execute_result"
    }
   ],
   "source": [
    "# perform data transformation. Creates dummies of any categorical feature\n",
    "for col in churn_data.columns[1:]:\n",
    "\tattName = col\n",
    "\tdType = churn_data[col].dtype\n",
    "\tmissing = pd.isnull(churn_data[col]).any()\n",
    "\tuniqueCount = len(churn_data[attName].value_counts(normalize=False))\n",
    "\n",
    "# discretize (create dummies)\n",
    "\tif dType == object:\n",
    "\t\tchurn_data= pd.concat([churn_data, pd.get_dummies(churn_data[col], prefix=col)], axis=1)\n",
    "\t\tchurn_data.drop(columns=[attName],inplace=True)\n",
    "churn_data"
   ]
  },
  {
   "cell_type": "code",
   "execution_count": 14,
   "metadata": {},
   "outputs": [],
   "source": [
    "# split dataset into testing and training\n",
    "features_train, features_test, target_train, target_test = train_test_split(churn_data.iloc[:,1:].values, \n",
    "                                                                            churn_data.iloc[:,0].values, test_size=0.40, \n",
    "                                                                            random_state=0)"
   ]
  },
  {
   "cell_type": "markdown",
   "metadata": {},
   "source": [
    "## Modeling"
   ]
  },
  {
   "cell_type": "markdown",
   "metadata": {},
   "source": [
    "### Decision Trees - Base Model"
   ]
  },
  {
   "cell_type": "code",
   "execution_count": 15,
   "metadata": {},
   "outputs": [
    {
     "name": "stdout",
     "output_type": "stream",
     "text": [
      "DT Accuracy Score 0.7334989354151881\n",
      "              precision    recall  f1-score   support\n",
      "\n",
      "           0       0.82      0.81      0.82      2071\n",
      "           1       0.50      0.51      0.50       747\n",
      "\n",
      "    accuracy                           0.73      2818\n",
      "   macro avg       0.66      0.66      0.66      2818\n",
      "weighted avg       0.74      0.73      0.73      2818\n",
      "\n",
      "[[1685  386]\n",
      " [ 365  382]]\n"
     ]
    }
   ],
   "source": [
    "#Decision Tree train model. Call up my model and name it churn_dt\n",
    "churn_dt = tree.DecisionTreeClassifier()\n",
    "\n",
    "#Fit DT model to the training data\n",
    "churn_dt = churn_dt.fit(features_train, target_train)\n",
    "\n",
    "#Predict DT model again test data\n",
    "target_predicted_dt = churn_dt.predict(features_test)\n",
    "\n",
    "#looking at the accuracy of this model\n",
    "print(\"DT Accuracy Score\", accuracy_score(target_test, target_predicted_dt))\n",
    "print(classification_report(target_test, target_predicted_dt))\n",
    "print(confusion_matrix(target_test, target_predicted_dt))"
   ]
  },
  {
   "cell_type": "markdown",
   "metadata": {},
   "source": [
    "Base model is able to identify 73% of the variability in the data. Pretty low recall for churn data. "
   ]
  },
  {
   "cell_type": "code",
   "execution_count": 16,
   "metadata": {},
   "outputs": [
    {
     "name": "stdout",
     "output_type": "stream",
     "text": [
      "DT Accuracy Score 0.7324343506032647\n",
      "              precision    recall  f1-score   support\n",
      "\n",
      "           0       0.82      0.82      0.82      2071\n",
      "           1       0.50      0.49      0.49       747\n",
      "\n",
      "    accuracy                           0.73      2818\n",
      "   macro avg       0.66      0.66      0.66      2818\n",
      "weighted avg       0.73      0.73      0.73      2818\n",
      "\n",
      "[[1695  376]\n",
      " [ 378  369]]\n"
     ]
    }
   ],
   "source": [
    "churn_dt_2 = tree.DecisionTreeClassifier(criterion=\"entropy\")\n",
    "#Fit clf to the training data\n",
    "churn_dt_2 = churn_dt_2.fit(features_train, target_train)\n",
    "#Predict DT model again test data\n",
    "target_predicted_dt_2 = churn_dt_2.predict(features_test)\n",
    "#looking at the accuracy of this model\n",
    "print(\"DT Accuracy Score\", accuracy_score(target_test, target_predicted_dt_2))\n",
    "print(classification_report(target_test, target_predicted_dt_2))\n",
    "print(confusion_matrix(target_test, target_predicted_dt_2))"
   ]
  },
  {
   "cell_type": "code",
   "execution_count": 17,
   "metadata": {},
   "outputs": [
    {
     "name": "stdout",
     "output_type": "stream",
     "text": [
      "DT Accuracy Score 0.7239176721078779\n",
      "              precision    recall  f1-score   support\n",
      "\n",
      "           0       0.81      0.82      0.81      2071\n",
      "           1       0.48      0.46      0.47       747\n",
      "\n",
      "    accuracy                           0.72      2818\n",
      "   macro avg       0.64      0.64      0.64      2818\n",
      "weighted avg       0.72      0.72      0.72      2818\n",
      "\n",
      "[[1696  375]\n",
      " [ 403  344]]\n"
     ]
    }
   ],
   "source": [
    "churn_dt_3 = tree.DecisionTreeClassifier(criterion=\"entropy\",splitter=\"random\")\n",
    "#Fit clf to the training data\n",
    "churn_dt_3 = churn_dt_3.fit(features_train, target_train)\n",
    "#Predict clf DT model again test data\n",
    "target_predicted_dt_3 = churn_dt_3.predict(features_test)\n",
    "#looking at the accuracy of this model\n",
    "print(\"DT Accuracy Score\", accuracy_score(target_test, target_predicted_dt_3))\n",
    "print(classification_report(target_test, target_predicted_dt_3))\n",
    "print(confusion_matrix(target_test, target_predicted_dt_3))"
   ]
  },
  {
   "cell_type": "markdown",
   "metadata": {},
   "source": [
    "Changing the strategy by which splits are chose did not seem to enhance results. THe best splitter is a better criteria on picking splits. It might be that this tree is not not very deep therefore, making it random makes it much more variable."
   ]
  },
  {
   "cell_type": "code",
   "execution_count": 18,
   "metadata": {},
   "outputs": [
    {
     "name": "stdout",
     "output_type": "stream",
     "text": [
      "Cross Validation Score for each K [0.74764151 0.74056604 0.71158392 0.72985782 0.71327014 0.75592417\n",
      " 0.73459716 0.7535545  0.74407583 0.74881517]\n"
     ]
    },
    {
     "data": {
      "text/plain": [
       "0.7379886258249551"
      ]
     },
     "execution_count": 18,
     "metadata": {},
     "output_type": "execute_result"
    }
   ],
   "source": [
    "#verify decision trees using cross validation\n",
    "scores_dt = cross_val_score(churn_dt_2, features_train, target_train, cv=10)\n",
    "print(\"Cross Validation Score for each K\",scores_dt)\n",
    "scores_dt.mean()"
   ]
  },
  {
   "cell_type": "markdown",
   "metadata": {},
   "source": [
    "The model we cross validated is doing a good job of generalizing the data. We do not have overfitting occuring. The cross validation suggests a accuracy score of 73 percent is what we should expect but the model came in right around there."
   ]
  },
  {
   "cell_type": "markdown",
   "metadata": {},
   "source": [
    "# Stochastic Gradient Descent"
   ]
  },
  {
   "cell_type": "code",
   "execution_count": 19,
   "metadata": {},
   "outputs": [
    {
     "name": "stdout",
     "output_type": "stream",
     "text": [
      "Accuracy Score 0.4744499645138396\n",
      "              precision    recall  f1-score   support\n",
      "\n",
      "           0       0.98      0.29      0.45      2071\n",
      "           1       0.33      0.98      0.50       747\n",
      "\n",
      "    accuracy                           0.47      2818\n",
      "   macro avg       0.66      0.64      0.47      2818\n",
      "weighted avg       0.81      0.47      0.46      2818\n",
      "\n",
      "[[ 603 1468]\n",
      " [  13  734]]\n"
     ]
    }
   ],
   "source": [
    "#import the packages necessary for SGD\n",
    "from sklearn.linear_model import SGDClassifier\n",
    "#call the SGD classifier \n",
    "churn_sgd = SGDClassifier(class_weight='balanced', random_state=0)\n",
    "#Fit to the training data\n",
    "churn_sgd = churn_sgd.fit(features_train, target_train)\n",
    "#Predict using SGD to test data\n",
    "target_predicted_sgd = churn_sgd.predict(features_test)\n",
    "#looking at the accuracy of this model\n",
    "print(\"Accuracy Score\", accuracy_score(target_test, target_predicted_sgd))\n",
    "print(classification_report(target_test, target_predicted_sgd))\n",
    "print(confusion_matrix(target_test, target_predicted_sgd))"
   ]
  },
  {
   "cell_type": "markdown",
   "metadata": {},
   "source": [
    "The initial gradient descent model has a poor accuracy score. it is only able to explain 47 percent of variance in the data. Most of the this comes from it's impeccable ability to be precise with the No's and recall all the Yes's. We will tune a few hyperparameters in order to increase predictive power. "
   ]
  },
  {
   "cell_type": "code",
   "execution_count": 20,
   "metadata": {},
   "outputs": [
    {
     "name": "stderr",
     "output_type": "stream",
     "text": [
      "C:\\Users\\Joel\\Anaconda3\\lib\\site-packages\\sklearn\\linear_model\\stochastic_gradient.py:561: ConvergenceWarning: Maximum number of iteration reached before convergence. Consider increasing max_iter to improve the fit.\n",
      "  ConvergenceWarning)\n"
     ]
    },
    {
     "name": "stdout",
     "output_type": "stream",
     "text": [
      "BEST SCORE 0.7808284023668639\n",
      "BEST PARAM {'alpha': 0.01, 'loss': 'hinge', 'penalty': 'elasticnet'}\n"
     ]
    }
   ],
   "source": [
    "#create parameters to test\n",
    "parameters_sgd = {'penalty':('l1', 'l2','elasticnet'), 'alpha':[.001,.01,.1,1],'loss':['hinge','squared_hinge','modified_huber']}\n",
    "#call the model \n",
    "sgd = SGDClassifier(class_weight='balanced',random_state=0)\n",
    "#test the model with the parameters\n",
    "grid_sgd = GridSearchCV(sgd, parameters_sgd, cv=5)\n",
    "grid_sgd.fit(features_train, target_train)\n",
    "#results\n",
    "print(\"BEST SCORE\",grid_sgd.best_score_)\n",
    "print(\"BEST PARAM\", grid_sgd.best_params_)"
   ]
  },
  {
   "cell_type": "code",
   "execution_count": 21,
   "metadata": {},
   "outputs": [
    {
     "name": "stdout",
     "output_type": "stream",
     "text": [
      "Accuracy Score 0.7863733144073811\n",
      "              precision    recall  f1-score   support\n",
      "\n",
      "           0       0.80      0.95      0.87      2071\n",
      "           1       0.70      0.34      0.46       747\n",
      "\n",
      "    accuracy                           0.79      2818\n",
      "   macro avg       0.75      0.64      0.66      2818\n",
      "weighted avg       0.77      0.79      0.76      2818\n",
      "\n",
      "[[1964  107]\n",
      " [ 495  252]]\n"
     ]
    }
   ],
   "source": [
    "#call the SGD classifier \n",
    "churn_sgd_2 = SGDClassifier(alpha=.001,class_weight='balanced',random_state=0)\n",
    "#Fit to the training data\n",
    "churn_sgd_2 = churn_sgd_2.fit(features_train, target_train)\n",
    "#Predict using SGD to test data\n",
    "target_predicted_sgd_2 = churn_sgd_2.predict(features_test)\n",
    "#looking at the accuracy of this model\n",
    "print(\"Accuracy Score\", accuracy_score(target_test, target_predicted_sgd_2))\n",
    "print(classification_report(target_test, target_predicted_sgd_2))\n",
    "print(confusion_matrix(target_test, target_predicted_sgd_2))"
   ]
  },
  {
   "cell_type": "markdown",
   "metadata": {},
   "source": [
    "Changing the alpha to .001 helped tremendenously in increasing the predicitive power of the model. The only downside to this model is that the recall for the positive prediticions is pretty poor. Fine tuning the loss funtion and penalty parameters should help."
   ]
  },
  {
   "cell_type": "code",
   "execution_count": 22,
   "metadata": {},
   "outputs": [
    {
     "name": "stdout",
     "output_type": "stream",
     "text": [
      "Accuracy Score 0.7959545777146912\n",
      "              precision    recall  f1-score   support\n",
      "\n",
      "           0       0.83      0.92      0.87      2071\n",
      "           1       0.66      0.46      0.55       747\n",
      "\n",
      "    accuracy                           0.80      2818\n",
      "   macro avg       0.75      0.69      0.71      2818\n",
      "weighted avg       0.78      0.80      0.78      2818\n",
      "\n",
      "[[1896  175]\n",
      " [ 400  347]]\n"
     ]
    }
   ],
   "source": [
    "#call the SGD classifier \n",
    "churn_sgd_3 = SGDClassifier(loss='hinge',penalty='elasticnet',\n",
    "                            alpha=.001,class_weight='balanced',random_state=0)\n",
    "#Fit to the training data\n",
    "churn_sgd_3 = churn_sgd_3.fit(features_train, target_train)\n",
    "#Predict using SGD to test data\n",
    "target_predicted_sgd_3 = churn_sgd_3.predict(features_test)\n",
    "#looking at the accuracy of this model\n",
    "print(\"Accuracy Score\", accuracy_score(target_test, target_predicted_sgd_3))\n",
    "print(classification_report(target_test, target_predicted_sgd_3))\n",
    "print(confusion_matrix(target_test, target_predicted_sgd_3))"
   ]
  },
  {
   "cell_type": "code",
   "execution_count": 23,
   "metadata": {},
   "outputs": [
    {
     "name": "stdout",
     "output_type": "stream",
     "text": [
      "Cross Validation Score for each K [0.75       0.44339623 0.77777778 0.75118483 0.52606635 0.62322275\n",
      " 0.56161137 0.77014218 0.74170616 0.67298578]\n"
     ]
    },
    {
     "data": {
      "text/plain": [
       "0.6618093435472493"
      ]
     },
     "execution_count": 23,
     "metadata": {},
     "output_type": "execute_result"
    }
   ],
   "source": [
    "#verify the linear SVM model using cross validation\n",
    "scores_sgd = cross_val_score(churn_sgd_3, features_train, target_train, cv=10)\n",
    "print(\"Cross Validation Score for each K\",scores_sgd)\n",
    "scores_sgd.mean() "
   ]
  },
  {
   "cell_type": "markdown",
   "metadata": {},
   "source": [
    "The last model performed significanly better. It was able to explain 80 percent of the variance in the data. Looking at the cross validation test, we see that on average the model was predicting much less which means our model is overfitting. Might be due to the class imbalance. "
   ]
  },
  {
   "cell_type": "markdown",
   "metadata": {},
   "source": [
    "# SVM Linear"
   ]
  },
  {
   "cell_type": "code",
   "execution_count": 24,
   "metadata": {},
   "outputs": [
    {
     "name": "stdout",
     "output_type": "stream",
     "text": [
      "Accuracy Score 0.8023420865862314\n",
      "              precision    recall  f1-score   support\n",
      "\n",
      "           0       0.84      0.90      0.87      2071\n",
      "           1       0.66      0.54      0.59       747\n",
      "\n",
      "    accuracy                           0.80      2818\n",
      "   macro avg       0.75      0.72      0.73      2818\n",
      "weighted avg       0.79      0.80      0.80      2818\n",
      "\n",
      "[[1861  210]\n",
      " [ 347  400]]\n"
     ]
    }
   ],
   "source": [
    "#import packages neccessary for analysis\n",
    "from sklearn.svm import SVC\n",
    "from sklearn.svm import LinearSVC\n",
    "#call the model and create class\n",
    "churn_lnsvm=LinearSVC(random_state=0,dual=False)\n",
    "#Fit churn to the training data\n",
    "churn_lnsvm = churn_lnsvm.fit(features_train, target_train)\n",
    "#Predict churn SVM linear model to test data\n",
    "target_predicted_lnsvm = churn_lnsvm.predict(features_test)\n",
    "#looking at the accuracy of this model\n",
    "print(\"Accuracy Score\", accuracy_score(target_test, target_predicted_lnsvm))\n",
    "print(classification_report(target_test, target_predicted_lnsvm))\n",
    "print(confusion_matrix(target_test, target_predicted_lnsvm))"
   ]
  },
  {
   "cell_type": "markdown",
   "metadata": {},
   "source": [
    "This model is exceptional at predicting the \"no\", the precision and recall are proof of that. This model is also very poor prediciting the \"Yes\". The recall for the positive prediction is horrilbe. The dual has been turned to false to prevent the max_iter error. One point to note here, is that classes have not been weighted properly therefore, we should be able to get better results for predicting the YES values."
   ]
  },
  {
   "cell_type": "code",
   "execution_count": 25,
   "metadata": {},
   "outputs": [
    {
     "name": "stdout",
     "output_type": "stream",
     "text": [
      "BEST SCORE 0.8035502958579882\n",
      "BEST PARAM {'C': 0.001}\n"
     ]
    }
   ],
   "source": [
    "parameters = {'C':[.001,.01,1,3,5,10]}\n",
    "svr = LinearSVC(random_state=0, dual=False)\n",
    "grid_lnsvm = GridSearchCV(svr, parameters, cv=5)\n",
    "grid_lnsvm.fit(features_train, target_train)\n",
    "print(\"BEST SCORE\",grid_lnsvm.best_score_)\n",
    "print(\"BEST PARAM\", grid_lnsvm.best_params_)"
   ]
  },
  {
   "cell_type": "markdown",
   "metadata": {},
   "source": [
    "The parameter being tested is the penalty. The best model is a result of the regularization being .001 and all other hyperparameters remaining."
   ]
  },
  {
   "cell_type": "code",
   "execution_count": 26,
   "metadata": {},
   "outputs": [
    {
     "name": "stdout",
     "output_type": "stream",
     "text": [
      "Accuracy Score 0.7388218594748048\n",
      "              precision    recall  f1-score   support\n",
      "\n",
      "           0       0.91      0.72      0.80      2071\n",
      "           1       0.50      0.79      0.62       747\n",
      "\n",
      "    accuracy                           0.74      2818\n",
      "   macro avg       0.70      0.76      0.71      2818\n",
      "weighted avg       0.80      0.74      0.75      2818\n",
      "\n",
      "[[1491  580]\n",
      " [ 156  591]]\n"
     ]
    }
   ],
   "source": [
    "#call the model and create class with a balanced class this time\n",
    "churn_lnsvm_2=LinearSVC(class_weight='balanced',random_state=0,dual=False)\n",
    "#Fit churn to the training data\n",
    "churn_lnsvm_2 = churn_lnsvm_2.fit(features_train, target_train)\n",
    "#Predict churn random forest model to test data\n",
    "target_predicted_lnsvm_2 = churn_lnsvm_2.predict(features_test)\n",
    "#looking at the accuracy of this model\n",
    "print(\"Accuracy Score\", accuracy_score(target_test, target_predicted_lnsvm_2))\n",
    "print(classification_report(target_test, target_predicted_lnsvm_2))\n",
    "print(confusion_matrix(target_test, target_predicted_lnsvm_2))"
   ]
  },
  {
   "cell_type": "markdown",
   "metadata": {},
   "source": [
    "The overall accuracy of the model fell but we were able to drasitically improve the recall of the positive values found and the precision of the negative values. This model however is worse at precision of positive values and recall of negative values."
   ]
  },
  {
   "cell_type": "code",
   "execution_count": 27,
   "metadata": {},
   "outputs": [
    {
     "name": "stdout",
     "output_type": "stream",
     "text": [
      "Accuracy Score 0.747693399574166\n",
      "              precision    recall  f1-score   support\n",
      "\n",
      "           0       0.90      0.74      0.81      2071\n",
      "           1       0.52      0.78      0.62       747\n",
      "\n",
      "    accuracy                           0.75      2818\n",
      "   macro avg       0.71      0.76      0.72      2818\n",
      "weighted avg       0.80      0.75      0.76      2818\n",
      "\n",
      "[[1524  547]\n",
      " [ 164  583]]\n"
     ]
    }
   ],
   "source": [
    "#call the model and create class with the regularization \n",
    "churn_lnsvm_3=LinearSVC(C=.001,class_weight='balanced',random_state=0, dual=False)\n",
    "#Fit to the training data\n",
    "churn_lnsvm_3 = churn_lnsvm_3.fit(features_train, target_train)\n",
    "#Predict using svm to test data\n",
    "target_predicted_lnsvm_3 = churn_lnsvm_3.predict(features_test)\n",
    "#looking at the accuracy of this model\n",
    "print(\"Accuracy Score\", accuracy_score(target_test, target_predicted_lnsvm_3))\n",
    "print(classification_report(target_test, target_predicted_lnsvm_3))\n",
    "print(confusion_matrix(target_test, target_predicted_lnsvm_3))"
   ]
  },
  {
   "cell_type": "code",
   "execution_count": 28,
   "metadata": {},
   "outputs": [
    {
     "name": "stdout",
     "output_type": "stream",
     "text": [
      "Cross Validation Score for each K [0.79481132 0.80660377 0.78959811 0.81990521 0.78909953 0.78909953\n",
      " 0.79383886 0.79620853 0.78909953 0.85308057]\n"
     ]
    },
    {
     "data": {
      "text/plain": [
       "0.8021344956641169"
      ]
     },
     "execution_count": 28,
     "metadata": {},
     "output_type": "execute_result"
    }
   ],
   "source": [
    "#verify the linear SVM model using cross validation\n",
    "scores_lnsvm = cross_val_score(churn_lnsvm, features_train, target_train, cv=10)\n",
    "print(\"Cross Validation Score for each K\",scores_lnsvm)\n",
    "scores_lnsvm.mean() "
   ]
  },
  {
   "cell_type": "markdown",
   "metadata": {},
   "source": [
    "The best model in this scenario was the first base model created. All hyperparameters were set to their default. The only one that I altered was using dual optimization as the data set has much more samples than features. This led to the best model, being able to predict 80 percent of the variance in the model."
   ]
  },
  {
   "cell_type": "markdown",
   "metadata": {},
   "source": [
    "# Feature Importance"
   ]
  },
  {
   "cell_type": "code",
   "execution_count": 29,
   "metadata": {},
   "outputs": [
    {
     "name": "stdout",
     "output_type": "stream",
     "text": [
      "Top 10 Features Impacts\n"
     ]
    },
    {
     "data": {
      "text/plain": [
       "<matplotlib.axes._subplots.AxesSubplot at 0x23abf0e2f88>"
      ]
     },
     "execution_count": 29,
     "metadata": {},
     "output_type": "execute_result"
    },
    {
     "data": {
      "image/png": "[encoded data removed]",
      "text/plain": [
       "<Figure size 432x288 with 1 Axes>"
      ]
     },
     "metadata": {
      "needs_background": "light"
     },
     "output_type": "display_data"
    }
   ],
   "source": [
    "print('Top 10 Features Impacts')\n",
    "pd.Series(abs(churn_lnsvm_3.coef_[0])).nlargest(10).plot(kind='barh')"
   ]
  }
 ],
 "metadata": {
  "kernelspec": {
   "display_name": "Python 3",
   "language": "python",
   "name": "python3"
  },
  "language_info": {
   "codemirror_mode": {
    "name": "ipython",
    "version": 3
   },
   "file_extension": ".py",
   "mimetype": "text/x-python",
   "name": "python",
   "nbconvert_exporter": "python",
   "pygments_lexer": "ipython3",
   "version": "3.7.4"
  }
 },
 "nbformat": 4,
 "nbformat_minor": 1
}
